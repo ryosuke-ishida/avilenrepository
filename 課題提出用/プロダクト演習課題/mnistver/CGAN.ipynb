{
 "cells": [
  {
   "cell_type": "markdown",
   "metadata": {
    "colab_type": "text",
    "id": "5E7EO66FEu1h"
   },
   "source": [
    "本ノートブックでは実際には使っていないコードもオプションの１つとしてコメントアウトして掲載してある。これはGANの学習にはいくつものヒューリスティックスがあり、データセットやネットワークの構造に依存して取捨選択する必要があるためである。つまり、今回の問題設定でうまくいかなかったとしても他の問題設定ではうまくいく可能性が十分にある。"
   ]
  },
  {
   "cell_type": "code",
   "execution_count": 1,
   "metadata": {
    "colab": {},
    "colab_type": "code",
    "executionInfo": {
     "elapsed": 579,
     "status": "ok",
     "timestamp": 1597402324954,
     "user": {
      "displayName": "西山大輝",
      "photoUrl": "",
      "userId": "00909174680590057351"
     },
     "user_tz": -540
    },
    "id": "2DR7Dck1LLmQ"
   },
   "outputs": [
    {
     "name": "stderr",
     "output_type": "stream",
     "text": [
      "Using plaidml.keras.backend backend.\n",
      "INFO:plaidml:Opening device \"metal_amd_radeon_pro_5300m.0\"\n"
     ]
    }
   ],
   "source": [
    "import os\n",
    "os.environ[\"KERAS_BACKEND\"] = \"plaidml.keras.backend\"\n",
    "import keras\n",
    "from keras import layers\n",
    "import numpy as np\n",
    "\n",
    "latent_dim = 100\n",
    "height = 32\n",
    "width = 32\n",
    "channels = 3\n",
    "\n",
    "#最適化アルゴリズム\n",
    "#学習を安定させるために重みをclip＆weight decayを用いる\n",
    "#識別者の学習ではRMSpropを用いたほうが良いとする事例もある\n",
    "#またlrを非常に小さくする(0.00005以下)場合もある\n",
    "#rmsp = keras.optimizers.RMSprop(lr=0.0008, clipvalue=1.0, decay=1e-8)\n",
    "#識別者用＆敵対者用(DCGAN論文では両方Adam)\n",
    "adam = keras.optimizers.Adam(lr=0.0002, beta_1=0.5, clipvalue=1.0, decay=1e-8)\n",
    "\n",
    "#DC論文ではすべての重みを以下で初期化している\n",
    "init = keras.initializers.RandomNormal(stddev=0.02)"
   ]
  },
  {
   "cell_type": "code",
   "execution_count": 2,
   "metadata": {
    "colab": {
     "base_uri": "https://localhost:8080/",
     "height": 485
    },
    "colab_type": "code",
    "executionInfo": {
     "elapsed": 8155,
     "status": "ok",
     "timestamp": 1597402107035,
     "user": {
      "displayName": "西山大輝",
      "photoUrl": "",
      "userId": "00909174680590057351"
     },
     "user_tz": -540
    },
    "id": "Zjsls-anBlM7",
    "outputId": "a9de2cbf-016d-4097-d97b-cfa433fb4920"
   },
   "outputs": [
    {
     "name": "stdout",
     "output_type": "stream",
     "text": [
      "__________________________________________________________________________________________________\n",
      "Layer (type)                    Output Shape         Param #     Connected to                     \n",
      "==================================================================================================\n",
      "input_2 (InputLayer)            (None, 1)            0                                            \n",
      "__________________________________________________________________________________________________\n",
      "embedding_1 (Embedding)         (None, 1, 100)       10000       input_2[0][0]                    \n",
      "__________________________________________________________________________________________________\n",
      "input_1 (InputLayer)            (None, 100)          0                                            \n",
      "__________________________________________________________________________________________________\n",
      "flatten_1 (Flatten)             (None, 100)          0           embedding_1[0][0]                \n",
      "__________________________________________________________________________________________________\n",
      "multiply_1 (Multiply)           (None, 100)          0           input_1[0][0]                    \n",
      "                                                                 flatten_1[0][0]                  \n",
      "__________________________________________________________________________________________________\n",
      "dense_1 (Dense)                 (None, 8192)         827392      multiply_1[0][0]                 \n",
      "__________________________________________________________________________________________________\n",
      "leaky_re_lu_1 (LeakyReLU)       (None, 8192)         0           dense_1[0][0]                    \n",
      "__________________________________________________________________________________________________\n",
      "reshape_1 (Reshape)             (None, 8, 8, 128)    0           leaky_re_lu_1[0][0]              \n",
      "__________________________________________________________________________________________________\n",
      "conv2d_transpose_1 (Conv2DTrans (None, 16, 16, 64)   131136      reshape_1[0][0]                  \n",
      "__________________________________________________________________________________________________\n",
      "leaky_re_lu_2 (LeakyReLU)       (None, 16, 16, 64)   0           conv2d_transpose_1[0][0]         \n",
      "__________________________________________________________________________________________________\n",
      "conv2d_transpose_2 (Conv2DTrans (None, 32, 32, 64)   65600       leaky_re_lu_2[0][0]              \n",
      "__________________________________________________________________________________________________\n",
      "leaky_re_lu_3 (LeakyReLU)       (None, 32, 32, 64)   0           conv2d_transpose_2[0][0]         \n",
      "__________________________________________________________________________________________________\n",
      "conv2d_1 (Conv2D)               (None, 32, 32, 3)    4803        leaky_re_lu_3[0][0]              \n",
      "==================================================================================================\n",
      "Total params: 1,038,931\n",
      "Trainable params: 1,038,931\n",
      "Non-trainable params: 0\n",
      "__________________________________________________________________________________________________\n"
     ]
    }
   ],
   "source": [
    "#生成ネットワーク\n",
    "generator_input = keras.Input(shape=(latent_dim,))\n",
    "label = keras.Input(shape=(1,), dtype='int32')\n",
    "\n",
    "#inputにlabelを追加する\n",
    "label_embedding = layers.Flatten()(layers.Embedding(100, latent_dim)(label))\n",
    "model_input = layers.multiply([generator_input, label_embedding])\n",
    "\n",
    "#潜在変数を8x8 128-channels 特徴マップへ変換\n",
    "x = layers.Dense(128 * 8 * 8,kernel_initializer=init)(model_input)\n",
    "#この実装では生成ネットワークの活性化関数にLeakyReLUを用いるが\n",
    "#代わりに以下のBatchNormalization＋LeRUを使う場合もある\n",
    "#x = layers.BatchNormalization()(x)\n",
    "#x = layers.Activation('relu')(x)\n",
    "x = layers.LeakyReLU(0.2)(x)\n",
    "x = layers.Reshape((8, 8, 128))(x)\n",
    "\n",
    "#8x8 128-channelsを16x16 64-channelsの特徴マップへDeconvolutionで変換\n",
    "#ストライドサイズで割り切れるカーネルサイズを使う\n",
    "x = layers.Conv2DTranspose(64, 4, strides=2, padding='same')(x)\n",
    "#x = layers.BatchNormalization()(x)\n",
    "#x = layers.Activation('relu')(x)\n",
    "x = layers.LeakyReLU(0.2)(x)\n",
    "\n",
    "#16x16 64-channelsを32x32 64-channelsの特徴マップへDeconvolutionで変換\n",
    "#ストライドサイズで割り切れるカーネルサイズを使う\n",
    "x = layers.Conv2DTranspose(64, 4, strides=2, padding='same')(x)\n",
    "#x = layers.BatchNormalization()(x)\n",
    "#x = layers.Activation('relu')(x)\n",
    "x = layers.LeakyReLU(0.2)(x)\n",
    "\n",
    "\n",
    "#32x32 64-channelsを３２x32 3-channelsの特徴マップへ変換\n",
    "#最後の出力の活性化関数はtanhを使う\n",
    "x = layers.Conv2D(channels, 5, activation='tanh', padding='same')(x)\n",
    "\n",
    "generator = keras.models.Model([generator_input, label], x)\n",
    "generator.summary()"
   ]
  },
  {
   "cell_type": "code",
   "execution_count": 3,
   "metadata": {
    "colab": {
     "base_uri": "https://localhost:8080/",
     "height": 593
    },
    "colab_type": "code",
    "executionInfo": {
     "elapsed": 8146,
     "status": "ok",
     "timestamp": 1597402107036,
     "user": {
      "displayName": "西山大輝",
      "photoUrl": "",
      "userId": "00909174680590057351"
     },
     "user_tz": -540
    },
    "id": "M8h7TsvfLf0u",
    "outputId": "d10cec8b-e6aa-426e-8c61-57be05413752"
   },
   "outputs": [
    {
     "name": "stdout",
     "output_type": "stream",
     "text": [
      "_________________________________________________________________\n",
      "Layer (type)                 Output Shape              Param #   \n",
      "=================================================================\n",
      "input_3 (InputLayer)         (None, 32, 32, 3)         0         \n",
      "_________________________________________________________________\n",
      "conv2d_2 (Conv2D)            (None, 16, 16, 64)        4864      \n",
      "_________________________________________________________________\n",
      "leaky_re_lu_4 (LeakyReLU)    (None, 16, 16, 64)        0         \n",
      "_________________________________________________________________\n",
      "dropout_1 (Dropout)          (None, 16, 16, 64)        0         \n",
      "_________________________________________________________________\n",
      "conv2d_3 (Conv2D)            (None, 8, 8, 128)         204928    \n",
      "_________________________________________________________________\n",
      "leaky_re_lu_5 (LeakyReLU)    (None, 8, 8, 128)         0         \n",
      "_________________________________________________________________\n",
      "dropout_2 (Dropout)          (None, 8, 8, 128)         0         \n",
      "_________________________________________________________________\n",
      "conv2d_4 (Conv2D)            (None, 4, 4, 256)         819456    \n",
      "_________________________________________________________________\n",
      "leaky_re_lu_6 (LeakyReLU)    (None, 4, 4, 256)         0         \n",
      "_________________________________________________________________\n",
      "dropout_3 (Dropout)          (None, 4, 4, 256)         0         \n",
      "_________________________________________________________________\n",
      "global_average_pooling2d_1 ( (None, 256)               0         \n",
      "_________________________________________________________________\n",
      "dense_2 (Dense)              (None, 1)                 257       \n",
      "=================================================================\n",
      "Total params: 1,029,505\n",
      "Trainable params: 1,029,505\n",
      "Non-trainable params: 0\n",
      "_________________________________________________________________\n"
     ]
    }
   ],
   "source": [
    "#識別ネットワーク\n",
    "#LeakyReLU、Dropout、GlobalAveragedPoolingを使うのがポイント\n",
    "discriminator_input = layers.Input(shape=(height, width, channels))\n",
    "flat_input = layers.Flatten()(discriminator_input)\n",
    "\n",
    "#inputにlabelを追加\n",
    "label = keras.Input(shape=(1,), dtype='int32')\n",
    "label_embedding = layers.Flatten()(layers.Embedding(100, height*width*channels)(label))\n",
    "model_input = layers.multiply([flat_input, label_embedding])\n",
    "\n",
    "x = layers.Conv2D(64, 5, strides=2,padding='same',kernel_initializer=init)(discriminator_input)\n",
    "x = layers.LeakyReLU(0.2)(x)\n",
    "x = layers.Dropout(0.3)(x)\n",
    "x = layers.Conv2D(128, 5, strides=2,padding='same')(x)\n",
    "x = layers.LeakyReLU(0.2)(x)\n",
    "x = layers.Dropout(0.3)(x)\n",
    "x = layers.Conv2D(256, 5, strides=2,padding='same')(x)\n",
    "x = layers.LeakyReLU(0.2)(x)\n",
    "x = layers.Dropout(0.3)(x)\n",
    "x = layers.GlobalAveragePooling2D()(x)\n",
    "x = layers.Dense(1, activation='sigmoid')(x)\n",
    "\n",
    "discriminator = keras.models.Model([discriminator_input, label], x)\n",
    "discriminator.summary()\n",
    "\n",
    "\n",
    "discriminator_optimizer  = adam\n",
    "discriminator.compile(optimizer=discriminator_optimizer, loss='binary_crossentropy')"
   ]
  },
  {
   "cell_type": "code",
   "execution_count": 23,
   "metadata": {
    "colab": {},
    "colab_type": "code",
    "executionInfo": {
     "elapsed": 8144,
     "status": "ok",
     "timestamp": 1597402107037,
     "user": {
      "displayName": "西山大輝",
      "photoUrl": "",
      "userId": "00909174680590057351"
     },
     "user_tz": -540
    },
    "id": "x27Dn3hpLk_C"
   },
   "outputs": [
    {
     "name": "stdout",
     "output_type": "stream",
     "text": [
      "__________________________________________________________________________________________________\n",
      "Layer (type)                    Output Shape         Param #     Connected to                     \n",
      "==================================================================================================\n",
      "input_37 (InputLayer)           (None, 100)          0                                            \n",
      "__________________________________________________________________________________________________\n",
      "input_36 (InputLayer)           (None, 1)            0                                            \n",
      "__________________________________________________________________________________________________\n",
      "model_8 (Model)                 (None, 32, 32, 3)    1038931     input_37[0][0]                   \n",
      "                                                                 input_36[0][0]                   \n",
      "__________________________________________________________________________________________________\n",
      "model_9 (Model)                 (None, 1)            1029505     model_8[3][0]                    \n",
      "                                                                 input_36[0][0]                   \n",
      "==================================================================================================\n",
      "Total params: 2,068,436\n",
      "Trainable params: 1,038,931\n",
      "Non-trainable params: 1,029,505\n",
      "__________________________________________________________________________________________________\n"
     ]
    }
   ],
   "source": [
    "#敵対的ネットワーク\n",
    "\n",
    "label = keras.Input(shape=(1,), dtype='int32')\n",
    "\n",
    "#識別ネットワークの学習を止めて\n",
    "discriminator.trainable = False\n",
    "#生成ネットワークの学習をする\n",
    "gan_input = keras.Input(shape=(latent_dim,))\n",
    "gan_output = discriminator([generator([gan_input, label]), label])\n",
    "gan = keras.models.Model([gan_input, label], gan_output)\n",
    "\n",
    "gan_optimizer = adam \n",
    "gan.summary()\n",
    "gan.compile(optimizer=gan_optimizer, loss='binary_crossentropy')"
   ]
  },
  {
   "cell_type": "code",
   "execution_count": 24,
   "metadata": {},
   "outputs": [],
   "source": [
    "def label2onehot(labels, class_num):\n",
    "    for i, label in enumerate(labels):\n",
    "        vec = np.zeros(class_num)\n",
    "        vec[label] = 1 \n",
    "        if i == 0:\n",
    "            onehot = vec\n",
    "        else:\n",
    "            onehot = np.vstack([onehot, vec])\n",
    "\n",
    "    return onehot"
   ]
  },
  {
   "cell_type": "code",
   "execution_count": 44,
   "metadata": {},
   "outputs": [
    {
     "name": "stdout",
     "output_type": "stream",
     "text": [
      "(50000, 32, 32, 3) (50000, 1) (10000, 32, 32, 3) (10000, 1)\n"
     ]
    }
   ],
   "source": [
    "import os\n",
    "os.environ[\"KERAS_BACKEND\"] = \"plaidml.keras.backend\"\n",
    "from keras.preprocessing import image\n",
    "from keras.datasets import cifar100\n",
    "from tqdm import tqdm\n",
    "\n",
    "#cifar100のダウンロード\n",
    "(x_train, _), (x_test, y_test) = cifar100.load_data(label_mode='fine')\n",
    "print(np.shape(x_train), np.shape(_), np.shape(x_test), np.shape(y_test))"
   ]
  },
  {
   "cell_type": "code",
   "execution_count": 46,
   "metadata": {},
   "outputs": [],
   "source": [
    "import os\n",
    "os.environ[\"KERAS_BACKEND\"] = \"plaidml.keras.backend\"\n",
    "from keras.preprocessing import image\n",
    "from keras.datasets import cifar100\n",
    "from tqdm import tqdm\n",
    "\n",
    "#cifar100のダウンロード\n",
    "(x_train, y_train), (x_test, y_test) = cifar100.load_data(label_mode='fine')\n",
    "\n",
    "#各ピクセルが[0,1]の値を取るように正規化\n",
    "#x_train = x_train.astype('float32') / 255.\n",
    "#x_train = x_train.reshape(x_train.shape + (1,))\n",
    "#x_test = x_test.astype('float32') / 255.\n",
    "#x_test = x_test.reshape(x_test.shape + (1,))\n",
    "\n",
    "#one-hotエンコーディングしてlabelを生成\n",
    "x_label = label2onehot(y_train, 100)\n",
    "y_label = label2onehot(y_test, 100)\n",
    "\n",
    "#生成者の出力をtanhとしたので\n",
    "#各ピクセルが[-1,1]の値を取るように正規化\n",
    "x_train = (x_train.astype('float32')-127.5)/ 127.5\n",
    "#x_train = x_train.reshape(x_train.shape + (1,))\n",
    "x_test = (x_test.astype('float32')-127.5)/ 127.5\n",
    "x_test = x_test.reshape(x_test.shape + (1,))\n"
   ]
  },
  {
   "cell_type": "code",
   "execution_count": 48,
   "metadata": {
    "colab": {
     "base_uri": "https://localhost:8080/",
     "height": 557
    },
    "colab_type": "code",
    "executionInfo": {
     "elapsed": 178036,
     "status": "ok",
     "timestamp": 1597402276937,
     "user": {
      "displayName": "西山大輝",
      "photoUrl": "",
      "userId": "00909174680590057351"
     },
     "user_tz": -540
    },
    "id": "PP-0AA0DLrLp",
    "outputId": "b8e249d4-d9db-4c34-d85c-1340a9d5e6a5"
   },
   "outputs": [
    {
     "name": "stdout",
     "output_type": "stream",
     "text": [
      "Epochs: 5\n",
      "Batch size: 128\n",
      "Batches per epoch: 390.625\n",
      "--------------- Epoch 1 ---------------\n",
      "0% []"
     ]
    },
    {
     "ename": "TypeError",
     "evalue": "Cannot cast scalar from dtype('float64') to dtype('int32') according to the rule 'same_kind'",
     "output_type": "error",
     "traceback": [
      "\u001b[0;31m---------------------------------------------------------------------------\u001b[0m",
      "\u001b[0;31mTypeError\u001b[0m                                 Traceback (most recent call last)",
      "\u001b[0;32m<ipython-input-48-401ffb70b77f>\u001b[0m in \u001b[0;36m<module>\u001b[0;34m\u001b[0m\n\u001b[1;32m     26\u001b[0m \u001b[0;34m\u001b[0m\u001b[0m\n\u001b[1;32m     27\u001b[0m         \u001b[0;31m# データを生成する\u001b[0m\u001b[0;34m\u001b[0m\u001b[0;34m\u001b[0m\u001b[0;34m\u001b[0m\u001b[0m\n\u001b[0;32m---> 28\u001b[0;31m         \u001b[0mgenerated_images\u001b[0m \u001b[0;34m=\u001b[0m \u001b[0mgenerator\u001b[0m\u001b[0;34m.\u001b[0m\u001b[0mpredict\u001b[0m\u001b[0;34m(\u001b[0m\u001b[0;34m[\u001b[0m\u001b[0mrandom_latent_vectors\u001b[0m\u001b[0;34m,\u001b[0m \u001b[0mx_label\u001b[0m\u001b[0;34m[\u001b[0m\u001b[0mi\u001b[0m\u001b[0;34m]\u001b[0m\u001b[0;34m]\u001b[0m\u001b[0;34m)\u001b[0m\u001b[0;34m\u001b[0m\u001b[0;34m\u001b[0m\u001b[0m\n\u001b[0m\u001b[1;32m     29\u001b[0m \u001b[0;34m\u001b[0m\u001b[0m\n\u001b[1;32m     30\u001b[0m         \u001b[0;31m# 観測データと生成データを識別するための入力データをつくる\u001b[0m\u001b[0;34m\u001b[0m\u001b[0;34m\u001b[0m\u001b[0;34m\u001b[0m\u001b[0m\n",
      "\u001b[0;32m~/anaconda3/envs/kerasenv/lib/python3.6/site-packages/keras/engine/training.py\u001b[0m in \u001b[0;36mpredict\u001b[0;34m(self, x, batch_size, verbose, steps)\u001b[0m\n\u001b[1;32m   1167\u001b[0m                                             \u001b[0mbatch_size\u001b[0m\u001b[0;34m=\u001b[0m\u001b[0mbatch_size\u001b[0m\u001b[0;34m,\u001b[0m\u001b[0;34m\u001b[0m\u001b[0;34m\u001b[0m\u001b[0m\n\u001b[1;32m   1168\u001b[0m                                             \u001b[0mverbose\u001b[0m\u001b[0;34m=\u001b[0m\u001b[0mverbose\u001b[0m\u001b[0;34m,\u001b[0m\u001b[0;34m\u001b[0m\u001b[0;34m\u001b[0m\u001b[0m\n\u001b[0;32m-> 1169\u001b[0;31m                                             steps=steps)\n\u001b[0m\u001b[1;32m   1170\u001b[0m \u001b[0;34m\u001b[0m\u001b[0m\n\u001b[1;32m   1171\u001b[0m     def train_on_batch(self, x, y,\n",
      "\u001b[0;32m~/anaconda3/envs/kerasenv/lib/python3.6/site-packages/keras/engine/training_arrays.py\u001b[0m in \u001b[0;36mpredict_loop\u001b[0;34m(model, f, ins, batch_size, verbose, steps)\u001b[0m\n\u001b[1;32m    292\u001b[0m                 \u001b[0mins_batch\u001b[0m\u001b[0;34m[\u001b[0m\u001b[0mi\u001b[0m\u001b[0;34m]\u001b[0m \u001b[0;34m=\u001b[0m \u001b[0mins_batch\u001b[0m\u001b[0;34m[\u001b[0m\u001b[0mi\u001b[0m\u001b[0;34m]\u001b[0m\u001b[0;34m.\u001b[0m\u001b[0mtoarray\u001b[0m\u001b[0;34m(\u001b[0m\u001b[0;34m)\u001b[0m\u001b[0;34m\u001b[0m\u001b[0;34m\u001b[0m\u001b[0m\n\u001b[1;32m    293\u001b[0m \u001b[0;34m\u001b[0m\u001b[0m\n\u001b[0;32m--> 294\u001b[0;31m             \u001b[0mbatch_outs\u001b[0m \u001b[0;34m=\u001b[0m \u001b[0mf\u001b[0m\u001b[0;34m(\u001b[0m\u001b[0mins_batch\u001b[0m\u001b[0;34m)\u001b[0m\u001b[0;34m\u001b[0m\u001b[0;34m\u001b[0m\u001b[0m\n\u001b[0m\u001b[1;32m    295\u001b[0m             \u001b[0mbatch_outs\u001b[0m \u001b[0;34m=\u001b[0m \u001b[0mto_list\u001b[0m\u001b[0;34m(\u001b[0m\u001b[0mbatch_outs\u001b[0m\u001b[0;34m)\u001b[0m\u001b[0;34m\u001b[0m\u001b[0;34m\u001b[0m\u001b[0m\n\u001b[1;32m    296\u001b[0m             \u001b[0;32mif\u001b[0m \u001b[0mbatch_index\u001b[0m \u001b[0;34m==\u001b[0m \u001b[0;36m0\u001b[0m\u001b[0;34m:\u001b[0m\u001b[0;34m\u001b[0m\u001b[0;34m\u001b[0m\u001b[0m\n",
      "\u001b[0;32m~/anaconda3/envs/kerasenv/lib/python3.6/site-packages/plaidml/keras/backend.py\u001b[0m in \u001b[0;36m__call__\u001b[0;34m(self, inputs)\u001b[0m\n\u001b[1;32m    176\u001b[0m                 \u001b[0mval\u001b[0m \u001b[0;34m=\u001b[0m \u001b[0mplaidml\u001b[0m\u001b[0;34m.\u001b[0m\u001b[0mReal\u001b[0m\u001b[0;34m(\u001b[0m\u001b[0mval\u001b[0m\u001b[0;34m)\u001b[0m\u001b[0;34m\u001b[0m\u001b[0;34m\u001b[0m\u001b[0m\n\u001b[1;32m    177\u001b[0m             \u001b[0;32melse\u001b[0m\u001b[0;34m:\u001b[0m\u001b[0;34m\u001b[0m\u001b[0;34m\u001b[0m\u001b[0m\n\u001b[0;32m--> 178\u001b[0;31m                 \u001b[0mval\u001b[0m \u001b[0;34m=\u001b[0m \u001b[0mvariable\u001b[0m\u001b[0;34m(\u001b[0m\u001b[0mval\u001b[0m\u001b[0;34m,\u001b[0m \u001b[0mdtype\u001b[0m\u001b[0;34m=\u001b[0m\u001b[0mself\u001b[0m\u001b[0;34m.\u001b[0m\u001b[0m_input_types\u001b[0m\u001b[0;34m[\u001b[0m\u001b[0mname\u001b[0m\u001b[0;34m]\u001b[0m\u001b[0;34m)\u001b[0m\u001b[0;34m.\u001b[0m\u001b[0mvar\u001b[0m\u001b[0;34m\u001b[0m\u001b[0;34m\u001b[0m\u001b[0m\n\u001b[0m\u001b[1;32m    179\u001b[0m             \u001b[0mself\u001b[0m\u001b[0;34m.\u001b[0m\u001b[0m_invoker\u001b[0m\u001b[0;34m.\u001b[0m\u001b[0mset_input\u001b[0m\u001b[0;34m(\u001b[0m\u001b[0mname\u001b[0m\u001b[0;34m,\u001b[0m \u001b[0mval\u001b[0m\u001b[0;34m)\u001b[0m\u001b[0;34m\u001b[0m\u001b[0;34m\u001b[0m\u001b[0m\n\u001b[1;32m    180\u001b[0m \u001b[0;34m\u001b[0m\u001b[0m\n",
      "\u001b[0;32m~/anaconda3/envs/kerasenv/lib/python3.6/site-packages/plaidml/keras/backend.py\u001b[0m in \u001b[0;36mwrapper\u001b[0;34m(*args, **kwargs)\u001b[0m\n\u001b[1;32m     57\u001b[0m     \u001b[0;32mdef\u001b[0m \u001b[0mwrapper\u001b[0m\u001b[0;34m(\u001b[0m\u001b[0;34m*\u001b[0m\u001b[0margs\u001b[0m\u001b[0;34m,\u001b[0m \u001b[0;34m**\u001b[0m\u001b[0mkwargs\u001b[0m\u001b[0;34m)\u001b[0m\u001b[0;34m:\u001b[0m\u001b[0;34m\u001b[0m\u001b[0;34m\u001b[0m\u001b[0m\n\u001b[1;32m     58\u001b[0m         \u001b[0;31m# Call the requested function regardless\u001b[0m\u001b[0;34m\u001b[0m\u001b[0;34m\u001b[0m\u001b[0;34m\u001b[0m\u001b[0m\n\u001b[0;32m---> 59\u001b[0;31m         \u001b[0;32mreturn\u001b[0m \u001b[0mfunc\u001b[0m\u001b[0;34m(\u001b[0m\u001b[0;34m*\u001b[0m\u001b[0margs\u001b[0m\u001b[0;34m,\u001b[0m \u001b[0;34m**\u001b[0m\u001b[0mkwargs\u001b[0m\u001b[0;34m)\u001b[0m\u001b[0;34m\u001b[0m\u001b[0;34m\u001b[0m\u001b[0m\n\u001b[0m\u001b[1;32m     60\u001b[0m \u001b[0;34m\u001b[0m\u001b[0m\n\u001b[1;32m     61\u001b[0m     \u001b[0;32mreturn\u001b[0m \u001b[0mwrapper\u001b[0m\u001b[0;34m\u001b[0m\u001b[0;34m\u001b[0m\u001b[0m\n",
      "\u001b[0;32m~/anaconda3/envs/kerasenv/lib/python3.6/site-packages/plaidml/keras/backend.py\u001b[0m in \u001b[0;36mvariable\u001b[0;34m(value, dtype, name, constraint)\u001b[0m\n\u001b[1;32m   1935\u001b[0m         _device(), plaidml.Shape(_ctx, ptile.convert_np_dtype_to_pml(dtype), *value.shape))\n\u001b[1;32m   1936\u001b[0m     \u001b[0;32mwith\u001b[0m \u001b[0mtensor\u001b[0m\u001b[0;34m.\u001b[0m\u001b[0mmmap_discard\u001b[0m\u001b[0;34m(\u001b[0m\u001b[0m_ctx\u001b[0m\u001b[0;34m)\u001b[0m \u001b[0;32mas\u001b[0m \u001b[0mview\u001b[0m\u001b[0;34m:\u001b[0m\u001b[0;34m\u001b[0m\u001b[0;34m\u001b[0m\u001b[0m\n\u001b[0;32m-> 1937\u001b[0;31m         \u001b[0mview\u001b[0m\u001b[0;34m.\u001b[0m\u001b[0mcopy_from_ndarray\u001b[0m\u001b[0;34m(\u001b[0m\u001b[0mvalue\u001b[0m\u001b[0;34m)\u001b[0m\u001b[0;34m\u001b[0m\u001b[0;34m\u001b[0m\u001b[0m\n\u001b[0m\u001b[1;32m   1938\u001b[0m         \u001b[0mview\u001b[0m\u001b[0;34m.\u001b[0m\u001b[0mwriteback\u001b[0m\u001b[0;34m(\u001b[0m\u001b[0;34m)\u001b[0m\u001b[0;34m\u001b[0m\u001b[0;34m\u001b[0m\u001b[0m\n\u001b[1;32m   1939\u001b[0m     return ptile.Value.from_var(tensor, value.shape, ptile.convert_np_dtype_to_pml(dtype),\n",
      "\u001b[0;32m~/anaconda3/envs/kerasenv/lib/python3.6/site-packages/plaidml/__init__.py\u001b[0m in \u001b[0;36mcopy_from_ndarray\u001b[0;34m(self, src)\u001b[0m\n\u001b[1;32m   1221\u001b[0m             \u001b[0msrc\u001b[0m \u001b[0;34m=\u001b[0m \u001b[0msrc\u001b[0m\u001b[0;34m.\u001b[0m\u001b[0mview\u001b[0m\u001b[0;34m(\u001b[0m\u001b[0mdtype\u001b[0m\u001b[0;34m=\u001b[0m\u001b[0;34m'uint16'\u001b[0m\u001b[0;34m)\u001b[0m\u001b[0;34m\u001b[0m\u001b[0;34m\u001b[0m\u001b[0m\n\u001b[1;32m   1222\u001b[0m         \u001b[0mdst\u001b[0m \u001b[0;34m=\u001b[0m \u001b[0mnp\u001b[0m\u001b[0;34m.\u001b[0m\u001b[0mctypeslib\u001b[0m\u001b[0;34m.\u001b[0m\u001b[0mas_array\u001b[0m\u001b[0;34m(\u001b[0m\u001b[0mself\u001b[0m\u001b[0;34m.\u001b[0m\u001b[0m_base\u001b[0m\u001b[0;34m,\u001b[0m \u001b[0mshape\u001b[0m\u001b[0;34m=\u001b[0m\u001b[0msrc\u001b[0m\u001b[0;34m.\u001b[0m\u001b[0mshape\u001b[0m\u001b[0;34m)\u001b[0m\u001b[0;34m\u001b[0m\u001b[0;34m\u001b[0m\u001b[0m\n\u001b[0;32m-> 1223\u001b[0;31m         \u001b[0mnp\u001b[0m\u001b[0;34m.\u001b[0m\u001b[0mcopyto\u001b[0m\u001b[0;34m(\u001b[0m\u001b[0mdst\u001b[0m\u001b[0;34m,\u001b[0m \u001b[0msrc\u001b[0m\u001b[0;34m)\u001b[0m\u001b[0;34m\u001b[0m\u001b[0;34m\u001b[0m\u001b[0m\n\u001b[0m\u001b[1;32m   1224\u001b[0m \u001b[0;34m\u001b[0m\u001b[0m\n\u001b[1;32m   1225\u001b[0m     \u001b[0;32mdef\u001b[0m \u001b[0mcopy_to_ndarray\u001b[0m\u001b[0;34m(\u001b[0m\u001b[0mself\u001b[0m\u001b[0;34m,\u001b[0m \u001b[0mdst\u001b[0m\u001b[0;34m)\u001b[0m\u001b[0;34m:\u001b[0m\u001b[0;34m\u001b[0m\u001b[0;34m\u001b[0m\u001b[0m\n",
      "\u001b[0;31mTypeError\u001b[0m: Cannot cast scalar from dtype('float64') to dtype('int32') according to the rule 'same_kind'"
     ]
    }
   ],
   "source": [
    "\n",
    "#DCGAN論文で使われているバッチ数を使う\n",
    "batch_size = 128\n",
    "\n",
    "\n",
    "epochs=5\n",
    "batchSize=batch_size\n",
    "batchCount = x_train.shape[0] / batchSize\n",
    "print ('Epochs:', epochs)\n",
    "print ('Batch size:', batchSize)\n",
    "print ('Batches per epoch:', batchCount)\n",
    "\n",
    "sampled_labels = np.arange(0, 100).reshape(-1, 1)\n",
    "\n",
    "# 学習のループ\n",
    "for e in range(1, epochs+1):\n",
    "    print('-'*15, 'Epoch %d' % e, '-'*15) \n",
    "    #tqdmを使うとプログレスバーが出るがColabだと不安定なので別で代用する\n",
    "    #for _ in tqdm(range(int(batchCount))): \n",
    "    for i in range(int(batchCount)):\n",
    "        print(\"\\r{0}% [{1}]\".format(int(i/(batchCount-1)*100), \"*\" * int((i+1)/batchCount*50)), end=\"\")\n",
    "        # 潜在空間からランダムにサンプリング\n",
    "        random_latent_vectors = np.random.normal(size=(batch_size, latent_dim))\n",
    "\n",
    "        imgs = x_train[i*batchSize : (i+1)*batchSize]\n",
    "        labels = x_label[i*batchSize : (i+1)*batchSize]\n",
    "        \n",
    "        # データを生成する\n",
    "        generated_images = generator.predict([random_latent_vectors, x_label[i]])\n",
    "\n",
    "        # 観測データと生成データを識別するための入力データをつくる\n",
    "        real_images = x_train[np.random.randint(0, x_train.shape[0], size=batchSize)]\n",
    "        combined_images = np.concatenate([generated_images, real_images])\n",
    "\n",
    "        # 観測データ(0)と生成データ(1)を識別するラベルをつくる\n",
    "        labels = np.concatenate([np.ones((batch_size, 1)),\n",
    "                             np.zeros((batch_size, 1))])\n",
    "        \n",
    "        # ランダムなノイズを加える\n",
    "        # ラベルを1ではなく0.7-1.2, 0を0-0.3のようなソフトラベルにすることもある\n",
    "        #labels += 0.05 * np.random.random(labels.shape)\n",
    "        labels *= 0.9\n",
    "\n",
    "\n",
    "        #識別ネットワークの学習\n",
    "        d_loss = discriminator.train_on_batch(combined_images, labels)\n",
    "\n",
    "        #潜在空間からサンプリング\n",
    "        random_latent_vectors = np.random.normal(size=(batch_size, latent_dim))\n",
    "\n",
    "        # すべてリアルなデータだと騙すためのラベル(y=0)を生成\n",
    "        misleading_targets = np.zeros((batch_size, 1))\n",
    "\n",
    "        # 生成ネットワークの学習\n",
    "        # min -y*log(D(G(z)))\n",
    "        a_loss = gan.train_on_batch(random_latent_vectors, misleading_targets)\n",
    "        if i==int(batchCount)-1 :\n",
    "            print(\"\\n\") \n",
    "            print('discriminator loss: %s' % (d_loss))\n",
    "            print('adversarial loss  : %s' % (a_loss))\n",
    "        \n",
    "      "
   ]
  },
  {
   "cell_type": "code",
   "execution_count": 77,
   "metadata": {},
   "outputs": [
    {
     "name": "stderr",
     "output_type": "stream",
     "text": [
      "Clipping input data to the valid range for imshow with RGB data ([0..1] for floats or [0..255] for integers).\n"
     ]
    },
    {
     "data": {
      "text/plain": [
       "<matplotlib.image.AxesImage at 0x7f851b455358>"
      ]
     },
     "execution_count": 77,
     "metadata": {},
     "output_type": "execute_result"
    },
    {
     "data": {
      "image/png": "[encoded data removed]",
      "text/plain": [
       "<Figure size 432x288 with 1 Axes>"
      ]
     },
     "metadata": {
      "needs_background": "light"
     },
     "output_type": "display_data"
    }
   ],
   "source": [
    "import matplotlib.pyplot as plt\n",
    "\n",
    "#表示するサンプル数\n",
    "examples=100\n",
    "#潜在空間からサンプリング\n",
    "noise = np.random.normal(0, 1, size=[examples, latent_dim])\n",
    "#画像を生成\n",
    "generatedImages = generator.predict(noise)\n",
    "\n",
    "dim=(10, 10)\n",
    "plt.figure(figsize=(10, 10))\n",
    "for i in range(generatedImages.shape[0]):\n",
    "    plt.subplot(dim[0], dim[1], i+1)\n",
    "    plt.imshow(generatedImages[i].reshape(height, width, channels), interpolation='nearest', cmap='gray', vmin=-1, vmax=1)\n",
    "    plt.axis('off')\n",
    "plt.tight_layout()"
   ]
  },
  {
   "cell_type": "code",
   "execution_count": null,
   "metadata": {},
   "outputs": [],
   "source": []
  }
 ],
 "metadata": {
  "accelerator": "GPU",
  "colab": {
   "collapsed_sections": [],
   "name": "DCGAN.ipynb",
   "provenance": []
  },
  "kernelspec": {
   "display_name": "Python 3",
   "language": "python",
   "name": "python3"
  },
  "language_info": {
   "codemirror_mode": {
    "name": "ipython",
    "version": 3
   },
   "file_extension": ".py",
   "mimetype": "text/x-python",
   "name": "python",
   "nbconvert_exporter": "python",
   "pygments_lexer": "ipython3",
   "version": "3.6.10"
  }
 },
 "nbformat": 4,
 "nbformat_minor": 4
}
